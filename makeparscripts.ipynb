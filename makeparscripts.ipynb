{
 "cells": [
  {
   "cell_type": "code",
   "execution_count": 1,
   "metadata": {},
   "outputs": [],
   "source": [
    "import sys\n",
    "import os\n",
    "import shutil"
   ]
  },
  {
   "cell_type": "code",
   "execution_count": null,
   "metadata": {},
   "outputs": [],
   "source": []
  },
  {
   "cell_type": "code",
   "execution_count": 2,
   "metadata": {},
   "outputs": [],
   "source": [
    "with open('xrb_root_Rin.py','r') as root:\n",
    "    lin = root.readlines()"
   ]
  },
  {
   "cell_type": "code",
   "execution_count": 3,
   "metadata": {},
   "outputs": [
    {
     "data": {
      "text/plain": [
       "\"os.system('rm /home/simonste/sw/XRbinaryParalell/XRbpar1/*_tmp*')\\n\""
      ]
     },
     "execution_count": 3,
     "metadata": {},
     "output_type": "execute_result"
    }
   ],
   "source": [
    "lin[352]"
   ]
  },
  {
   "cell_type": "code",
   "execution_count": null,
   "metadata": {},
   "outputs": [],
   "source": []
  },
  {
   "cell_type": "code",
   "execution_count": 4,
   "metadata": {},
   "outputs": [],
   "source": [
    "def writexrbfile(num,par1,par2):\n",
    "    with open('XRbParalellRin/xrb_par%s.py'%num,'w') as branch:\n",
    "        for i in range(139):\n",
    "            branch.write(lin[i])\n",
    "        branch.write(\"    workdir = '/home/simonste/sw/XRbinaryParalell/XRbpar%s/'\\n\"%num)\n",
    "        for j in range (140,196):\n",
    "            branch.write(lin[j])\n",
    "        branch.write(\"    workdir = '/home/simonste/sw/XRbinaryParalell/XRbpar%s/'\\n\"%num)\n",
    "        for k in range(197,300):\n",
    "            branch.write(lin[k])\n",
    "        branch.write(\"NWrange=[%s]\\n\"%par1)\n",
    "        for h in range(301,303):\n",
    "            branch.write(lin[h])\n",
    "        branch.write('THSrange=[%s]\\n'%par2)\n",
    "        for m in range(304,352):\n",
    "            branch.write(lin[m])\n",
    "        branch.write(\"os.system('rm /home/simonste/sw/XRbinaryParalell/XRbpar%s/*_tmp*')\\n\"%num)"
   ]
  },
  {
   "cell_type": "code",
   "execution_count": 5,
   "metadata": {},
   "outputs": [],
   "source": [
    "num = 1\n",
    "par1list = range(60,80,2)\n",
    "par2list = [3100,5100,7100]\n",
    "\n",
    "for x in par1list:\n",
    "    for y in par2list:\n",
    "        writexrbfile(num,x,y)\n",
    "        num+=1"
   ]
  },
  {
   "cell_type": "code",
   "execution_count": 26,
   "metadata": {},
   "outputs": [
    {
     "data": {
      "text/plain": [
       "[140, 141, 142]"
      ]
     },
     "execution_count": 26,
     "metadata": {},
     "output_type": "execute_result"
    }
   ],
   "source": [
    "range(140,143)"
   ]
  },
  {
   "cell_type": "code",
   "execution_count": 38,
   "metadata": {},
   "outputs": [
    {
     "data": {
      "text/plain": [
       "[60, 62, 64, 66, 68, 70, 72, 74, 76, 78]"
      ]
     },
     "execution_count": 38,
     "metadata": {},
     "output_type": "execute_result"
    }
   ],
   "source": [
    "range(60,80,2)"
   ]
  },
  {
   "cell_type": "code",
   "execution_count": 26,
   "metadata": {},
   "outputs": [
    {
     "name": "stdout",
     "output_type": "stream",
     "text": [
      "3100\n",
      "5100\n",
      "7100\n"
     ]
    }
   ],
   "source": [
    "for y in par2list:\n",
    "    print y"
   ]
  },
  {
   "cell_type": "code",
   "execution_count": null,
   "metadata": {},
   "outputs": [],
   "source": []
  }
 ],
 "metadata": {
  "kernelspec": {
   "display_name": "3ml",
   "language": "python",
   "name": "3ml"
  },
  "language_info": {
   "codemirror_mode": {
    "name": "ipython",
    "version": 2
   },
   "file_extension": ".py",
   "mimetype": "text/x-python",
   "name": "python",
   "nbconvert_exporter": "python",
   "pygments_lexer": "ipython2",
   "version": "2.7.14"
  }
 },
 "nbformat": 4,
 "nbformat_minor": 2
}
