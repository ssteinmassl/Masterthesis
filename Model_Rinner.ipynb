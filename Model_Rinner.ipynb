{
 "cells": [
  {
   "cell_type": "code",
   "execution_count": 1,
   "metadata": {},
   "outputs": [
    {
     "name": "stderr",
     "output_type": "stream",
     "text": [
      "/home/simonste/.venv/3ml/local/lib/python2.7/site-packages/ipyparallel/client/client.py:459: RuntimeWarning: \n",
      "            Controller appears to be listening on localhost, but not on this machine.\n",
      "            If this is true, you should specify Client(...,sshserver='you@necromancer')\n",
      "            or instruct your controller to listen on an external IP.\n",
      "  RuntimeWarning)\n"
     ]
    }
   ],
   "source": [
    "from astromodels import Band\n",
    "from astromodels import TemplateModel\n",
    "import numpy as np\n",
    "import string\n",
    "from scipy import constants as const\n",
    "import progressbar\n",
    "from time import sleep\n",
    "import ipyparallel as ipp\n",
    "rc = ipp.Client()"
   ]
  },
  {
   "cell_type": "code",
   "execution_count": 2,
   "metadata": {},
   "outputs": [],
   "source": [
    "def modfactory(band,col):\n",
    "    from astromodels import Band\n",
    "    from astromodels import TemplateModel\n",
    "    import numpy as np\n",
    "    import string\n",
    "    from scipy import constants as const\n",
    "    import progressbar\n",
    "    from time import sleep\n",
    "    from astromodels import TemplateModelFactory\n",
    "    import sys\n",
    "    sys.path.append('/home/simonste/research/xrb/scripts/modules')\n",
    "    from my_functions import modelRinner\n",
    "    phases = np.arange(0,1.01,0.01)\n",
    "    print band,col\n",
    "    tmf = TemplateModelFactory('Xrb_HSESRinner%s'%band, \n",
    "                               'template for model with HS Edge Surface and Rinner- %s'%band, \n",
    "                               phases, \n",
    "                               ['Inkl','Dtemp','HSTemp','HSWidth',\n",
    "                                'T_sec','distfac','Dsize','R_inner'])\n",
    "\n",
    "    Inkl_grid = np.arange(60,79,2)\n",
    "    Dtemp_grid = np.arange(1000,3200,300)\n",
    "    #Dsize_grid = [0.8]\n",
    "    HSTemp_grid = np.arange(3100,7200,2000)\n",
    "    HSWidth_grid = np.arange(1,42,10)\n",
    "    T_sec_grid = np.arange(3800,4700,200)\n",
    "    distfac_grid = np.arange(-1,1.01,1)\n",
    "    Dsize_grid = [0.725,0.825,0.925,0.999]\n",
    "    R_inner_grid = [1000,3000,5000,7000,9000]\n",
    "   \n",
    "    tmf.define_parameter_grid('Inkl', Inkl_grid)\n",
    "    tmf.define_parameter_grid('Dtemp', Dtemp_grid)\n",
    "    tmf.define_parameter_grid('HSTemp', HSTemp_grid)\n",
    "    tmf.define_parameter_grid('HSWidth', HSWidth_grid)\n",
    "    tmf.define_parameter_grid('T_sec', T_sec_grid)\n",
    "    tmf.define_parameter_grid('distfac', distfac_grid)\n",
    "    tmf.define_parameter_grid('Dsize', Dsize_grid)\n",
    "    tmf.define_parameter_grid('R_inner', R_inner_grid)\n",
    "\n",
    "    for a in Inkl_grid:\n",
    "        for b in Dtemp_grid:\n",
    "            for c in HSTemp_grid:\n",
    "                for d in HSWidth_grid:\n",
    "                    for e in T_sec_grid:\n",
    "                        for f in distfac_grid:\n",
    "                            for g in Dsize_grid:\n",
    "                                    for h in R_inner_grid:\n",
    "                                        tmf.add_interpolation_data(modelRinner(phases,\n",
    "                                                                               a,b,c,d,\n",
    "                                                                               e,f,g,\n",
    "                                                                               h,col),\n",
    "                                                       Inkl = a , Dtemp = b ,HSTemp = c, \n",
    "                                                                   HSWidth = d, T_sec =e,\n",
    "                                                                   distfac = f, Dsize =g,\n",
    "                                                                   R_inner = h)\n",
    "    tmf.save_data(overwrite=True)\n",
    "    print 'file saved'"
   ]
  },
  {
   "cell_type": "code",
   "execution_count": 3,
   "metadata": {},
   "outputs": [
    {
     "data": {
      "text/plain": [
       "[None, None, None, None, None, None, None]"
      ]
     },
     "execution_count": 3,
     "metadata": {},
     "output_type": "execute_result"
    }
   ],
   "source": [
    "dview = rc[:]\n",
    "dview.block=True\n",
    "filter_list = ['gband','rband','iband','zband','Jband','Hband','Kband']\n",
    "#filter_list = ['iband','zband','Jband','Hband','Kband']\n",
    "col_list = [0,1,2,3,4,5,6]\n",
    "dview.map_sync(modfactory,filter_list,col_list) #col 1 = 0 in collist because 1 is added later"
   ]
  },
  {
   "cell_type": "code",
   "execution_count": null,
   "metadata": {},
   "outputs": [],
   "source": []
  }
 ],
 "metadata": {
  "kernelspec": {
   "display_name": "3ml",
   "language": "python",
   "name": "3ml"
  },
  "language_info": {
   "codemirror_mode": {
    "name": "ipython",
    "version": 2
   },
   "file_extension": ".py",
   "mimetype": "text/x-python",
   "name": "python",
   "nbconvert_exporter": "python",
   "pygments_lexer": "ipython2",
   "version": "2.7.14"
  }
 },
 "nbformat": 4,
 "nbformat_minor": 2
}
